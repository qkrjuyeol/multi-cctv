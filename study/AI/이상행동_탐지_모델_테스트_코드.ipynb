{
  "nbformat": 4,
  "nbformat_minor": 0,
  "metadata": {
    "colab": {
      "provenance": [],
      "name": "이상행동 탐지 모델 테스트 코드.ipynb",
      "authorship_tag": "ABX9TyP6RB/KTQxA41jXVzItlx3o",
      "include_colab_link": true
    },
    "kernelspec": {
      "name": "python3",
      "display_name": "Python 3"
    },
    "language_info": {
      "name": "python"
    }
  },
  "cells": [
    {
      "cell_type": "markdown",
      "metadata": {
        "id": "view-in-github",
        "colab_type": "text"
      },
      "source": [
        "<a href=\"https://colab.research.google.com/github/qkrjuyeol/multi-cctv/blob/main/%EC%9D%B4%EC%83%81%ED%96%89%EB%8F%99_%ED%83%90%EC%A7%80_%EB%AA%A8%EB%8D%B8_%ED%85%8C%EC%8A%A4%ED%8A%B8_%EC%BD%94%EB%93%9C.ipynb\" target=\"_parent\"><img src=\"https://colab.research.google.com/assets/colab-badge.svg\" alt=\"Open In Colab\"/></a>"
      ]
    },
    {
      "cell_type": "code",
      "source": [
        "import os\n",
        "import cv2\n",
        "import torch\n",
        "import torchvision.models.video as video_models\n",
        "import torch.nn as nn\n",
        "import numpy as np"
      ],
      "metadata": {
        "id": "0H9V36SYHAQP"
      },
      "execution_count": null,
      "outputs": []
    },
    {
      "cell_type": "code",
      "source": [
        "# ===== 설정 =====\n",
        "video_path = \"test1.mp4\"  # 분석할 영상 경로\n",
        "clip_duration_sec = 2     # 클립 길이\n",
        "device = torch.device(\"cuda\" if torch.cuda.is_available() else \"cpu\")"
      ],
      "metadata": {
        "id": "sJo7A6KXHCGq"
      },
      "execution_count": null,
      "outputs": []
    },
    {
      "cell_type": "code",
      "source": [
        "# ===== 모델 불러오기 =====\n",
        "model = video_models.r3d_18(weights=None)\n",
        "model.fc = nn.Linear(model.fc.in_features, 1)\n",
        "model.load_state_dict(torch.load(\"dump_detection_model_r3d18.pth\", map_location=device))\n",
        "model = model.to(device)\n",
        "model.eval()"
      ],
      "metadata": {
        "id": "sc-xLfzuHDfl"
      },
      "execution_count": null,
      "outputs": []
    },
    {
      "cell_type": "code",
      "source": [
        "# ===== 클립 전처리 함수 =====\n",
        "def preprocess_clip(frames):\n",
        "    frames = [cv2.resize(f, (112, 112)) for f in frames]\n",
        "    frames = [cv2.cvtColor(f, cv2.COLOR_BGR2RGB) for f in frames]\n",
        "    arr = np.stack(frames).transpose(3, 0, 1, 2)  # (C, T, H, W)\n",
        "    tensor = torch.tensor(arr, dtype=torch.float32) / 255.0\n",
        "    return tensor.unsqueeze(0).to(device)"
      ],
      "metadata": {
        "id": "Ju2m9hcVHGOY"
      },
      "execution_count": null,
      "outputs": []
    },
    {
      "cell_type": "code",
      "source": [
        "# ===== 영상 열기 =====\n",
        "cap = cv2.VideoCapture(video_path)\n",
        "\n",
        "if not cap.isOpened():\n",
        "    raise RuntimeError(\"영상 열기 실패\")\n",
        "\n",
        "fps = cap.get(cv2.CAP_PROP_FPS)\n",
        "clip_len = int(fps * clip_duration_sec)\n",
        "total_frames = int(cap.get(cv2.CAP_PROP_FRAME_COUNT))\n",
        "\n",
        "print(f\"FPS: {fps:.2f}, 총 프레임 수: {total_frames}, 클립 길이: {clip_len}프레임\")\n",
        "\n",
        "drop_ranges = []"
      ],
      "metadata": {
        "colab": {
          "base_uri": "https://localhost:8080/"
        },
        "id": "xfz_5qa-HLHa",
        "outputId": "2acf3c5e-ce5c-46ae-85d3-b36176e50eb4"
      },
      "execution_count": null,
      "outputs": [
        {
          "output_type": "stream",
          "name": "stdout",
          "text": [
            "FPS: 29.97, 총 프레임 수: 9059, 클립 길이: 59프레임\n"
          ]
        }
      ]
    },
    {
      "cell_type": "code",
      "execution_count": null,
      "metadata": {
        "colab": {
          "base_uri": "https://localhost:8080/"
        },
        "id": "UvczNGiSG2oY",
        "outputId": "e31d8919-77db-454d-ce0d-c13e6906dcd0"
      },
      "outputs": [
        {
          "output_type": "stream",
          "name": "stdout",
          "text": [
            "[0s ~ 1s] drop 확률: 0.0013\n",
            "[1s ~ 3s] drop 확률: 0.0013\n",
            "[3s ~ 5s] drop 확률: 0.0019\n",
            "[5s ~ 7s] drop 확률: 0.0026\n",
            "[7s ~ 9s] drop 확률: 0.0034\n",
            "[9s ~ 11s] drop 확률: 0.0040\n",
            "[11s ~ 13s] drop 확률: 0.0041\n",
            "[13s ~ 15s] drop 확률: 0.0048\n",
            "[15s ~ 17s] drop 확률: 0.0054\n",
            "[17s ~ 19s] drop 확률: 0.0052\n",
            "[19s ~ 21s] drop 확률: 0.0037\n",
            "[21s ~ 23s] drop 확률: 0.0045\n",
            "[23s ~ 25s] drop 확률: 0.0017\n",
            "[25s ~ 27s] drop 확률: 0.0019\n",
            "[27s ~ 29s] drop 확률: 0.0014\n",
            "[29s ~ 31s] drop 확률: 0.0012\n",
            "[31s ~ 33s] drop 확률: 0.0017\n",
            "[33s ~ 35s] drop 확률: 0.0020\n",
            "[35s ~ 37s] drop 확률: 0.0018\n",
            "[37s ~ 39s] drop 확률: 0.0022\n",
            "[39s ~ 41s] drop 확률: 0.0037\n",
            "[41s ~ 43s] drop 확률: 0.0059\n",
            "[43s ~ 45s] drop 확률: 0.0319\n",
            "[45s ~ 47s] drop 확률: 0.0301\n",
            "[47s ~ 49s] drop 확률: 0.0170\n",
            "[49s ~ 51s] drop 확률: 0.0246\n",
            "[51s ~ 53s] drop 확률: 0.0369\n",
            "[53s ~ 55s] drop 확률: 0.0497\n",
            "[55s ~ 57s] drop 확률: 0.0491\n",
            "[57s ~ 59s] drop 확률: 0.0289\n",
            "[59s ~ 61s] drop 확률: 0.1750\n",
            "[61s ~ 62s] drop 확률: 0.2079\n",
            "[62s ~ 64s] drop 확률: 0.0963\n",
            "[64s ~ 66s] drop 확률: 0.2028\n",
            "[66s ~ 68s] drop 확률: 0.1804\n",
            "[68s ~ 70s] drop 확률: 0.2018\n",
            "[70s ~ 72s] drop 확률: 0.1971\n",
            "[72s ~ 74s] drop 확률: 0.0056\n",
            "[74s ~ 76s] drop 확률: 0.0051\n",
            "[76s ~ 78s] drop 확률: 0.0017\n",
            "[78s ~ 80s] drop 확률: 0.0013\n",
            "[80s ~ 82s] drop 확률: 0.0047\n",
            "[82s ~ 84s] drop 확률: 0.0040\n",
            "[84s ~ 86s] drop 확률: 0.0052\n",
            "[86s ~ 88s] drop 확률: 0.0059\n",
            "[88s ~ 90s] drop 확률: 0.0053\n",
            "[90s ~ 92s] drop 확률: 0.0039\n",
            "[92s ~ 94s] drop 확률: 0.0041\n",
            "[94s ~ 96s] drop 확률: 0.0040\n",
            "[96s ~ 98s] drop 확률: 0.0044\n",
            "[98s ~ 100s] drop 확률: 0.0045\n",
            "[100s ~ 102s] drop 확률: 0.0043\n",
            "[102s ~ 104s] drop 확률: 0.0043\n",
            "[104s ~ 106s] drop 확률: 0.0045\n",
            "[106s ~ 108s] drop 확률: 0.0042\n",
            "[108s ~ 110s] drop 확률: 0.0041\n",
            "[110s ~ 112s] drop 확률: 0.0043\n",
            "[112s ~ 114s] drop 확률: 0.0047\n",
            "[114s ~ 116s] drop 확률: 0.0048\n",
            "[116s ~ 118s] drop 확률: 0.0049\n",
            "[118s ~ 120s] drop 확률: 0.0050\n",
            "[120s ~ 122s] drop 확률: 0.0052\n",
            "[122s ~ 124s] drop 확률: 0.0051\n",
            "[124s ~ 125s] drop 확률: 0.0055\n",
            "[125s ~ 127s] drop 확률: 0.0050\n",
            "[127s ~ 129s] drop 확률: 0.0052\n",
            "[129s ~ 131s] drop 확률: 0.0052\n",
            "[131s ~ 133s] drop 확률: 0.0047\n",
            "[133s ~ 135s] drop 확률: 0.0046\n",
            "[135s ~ 137s] drop 확률: 0.0050\n",
            "[137s ~ 139s] drop 확률: 0.0037\n",
            "[139s ~ 141s] drop 확률: 0.0043\n",
            "[141s ~ 143s] drop 확률: 0.0191\n",
            "[143s ~ 145s] drop 확률: 0.0034\n",
            "[145s ~ 147s] drop 확률: 0.0018\n",
            "[147s ~ 149s] drop 확률: 0.0024\n",
            "[149s ~ 151s] drop 확률: 0.0050\n",
            "[151s ~ 153s] drop 확률: 0.0021\n",
            "[153s ~ 155s] drop 확률: 0.0013\n",
            "[155s ~ 157s] drop 확률: 0.0013\n",
            "[157s ~ 159s] drop 확률: 0.0013\n",
            "[159s ~ 161s] drop 확률: 0.0013\n",
            "[161s ~ 163s] drop 확률: 0.0013\n",
            "[163s ~ 165s] drop 확률: 0.0013\n",
            "[165s ~ 167s] drop 확률: 0.0013\n",
            "[167s ~ 169s] drop 확률: 0.0013\n",
            "[169s ~ 171s] drop 확률: 0.0013\n",
            "[171s ~ 173s] drop 확률: 0.0021\n",
            "[173s ~ 175s] drop 확률: 0.0026\n",
            "[175s ~ 177s] drop 확률: 0.0019\n",
            "[177s ~ 179s] drop 확률: 0.0013\n",
            "[179s ~ 181s] drop 확률: 0.0035\n",
            "[181s ~ 183s] drop 확률: 0.0061\n",
            "[183s ~ 185s] drop 확률: 0.0064\n",
            "[185s ~ 187s] drop 확률: 0.0024\n",
            "[187s ~ 188s] drop 확률: 0.0016\n",
            "[188s ~ 190s] drop 확률: 0.0018\n",
            "[190s ~ 192s] drop 확률: 0.0048\n",
            "[192s ~ 194s] drop 확률: 0.0126\n",
            "[194s ~ 196s] drop 확률: 0.0085\n",
            "[196s ~ 198s] drop 확률: 0.0082\n",
            "[198s ~ 200s] drop 확률: 0.0037\n",
            "[200s ~ 202s] drop 확률: 0.0037\n",
            "[202s ~ 204s] drop 확률: 0.0017\n",
            "[204s ~ 206s] drop 확률: 0.0019\n",
            "[206s ~ 208s] drop 확률: 0.0016\n",
            "[208s ~ 210s] drop 확률: 0.0130\n",
            "[210s ~ 212s] drop 확률: 0.0091\n",
            "[212s ~ 214s] drop 확률: 0.0312\n",
            "[214s ~ 216s] drop 확률: 0.0184\n",
            "[216s ~ 218s] drop 확률: 0.0150\n",
            "[218s ~ 220s] drop 확률: 0.0018\n",
            "[220s ~ 222s] drop 확률: 0.0143\n",
            "[222s ~ 224s] drop 확률: 0.0696\n",
            "[224s ~ 226s] drop 확률: 0.0335\n",
            "[226s ~ 228s] drop 확률: 0.0803\n",
            "[228s ~ 230s] drop 확률: 0.0102\n",
            "[230s ~ 232s] drop 확률: 0.0038\n",
            "[232s ~ 234s] drop 확률: 0.0073\n",
            "[234s ~ 236s] drop 확률: 0.0720\n",
            "[236s ~ 238s] drop 확률: 0.0971\n",
            "[238s ~ 240s] drop 확률: 0.0132\n",
            "[240s ~ 242s] drop 확률: 0.0032\n",
            "[242s ~ 244s] drop 확률: 0.0022\n",
            "[244s ~ 246s] drop 확률: 0.0013\n",
            "[246s ~ 248s] drop 확률: 0.0013\n",
            "[248s ~ 250s] drop 확률: 0.0013\n",
            "[250s ~ 251s] drop 확률: 0.0012\n",
            "[251s ~ 253s] drop 확률: 0.0013\n",
            "[253s ~ 255s] drop 확률: 0.0013\n",
            "[255s ~ 257s] drop 확률: 0.0013\n",
            "[257s ~ 259s] drop 확률: 0.0015\n",
            "[259s ~ 261s] drop 확률: 0.0128\n",
            "[261s ~ 263s] drop 확률: 0.0289\n",
            "[263s ~ 265s] drop 확률: 0.0495\n",
            "[265s ~ 267s] drop 확률: 0.1398\n",
            "[267s ~ 269s] drop 확률: 0.3560\n",
            "[269s ~ 271s] drop 확률: 0.5265\n",
            "[271s ~ 273s] drop 확률: 0.2983\n",
            "[273s ~ 275s] drop 확률: 0.2745\n",
            "[275s ~ 277s] drop 확률: 0.0997\n",
            "[277s ~ 279s] drop 확률: 0.0120\n",
            "[279s ~ 281s] drop 확률: 0.0079\n",
            "[281s ~ 283s] drop 확률: 0.0052\n",
            "[283s ~ 285s] drop 확률: 0.0053\n",
            "[285s ~ 287s] drop 확률: 0.0051\n",
            "[287s ~ 289s] drop 확률: 0.0053\n",
            "[289s ~ 291s] drop 확률: 0.0053\n",
            "[291s ~ 293s] drop 확률: 0.0053\n",
            "[293s ~ 295s] drop 확률: 0.0056\n",
            "[295s ~ 297s] drop 확률: 0.0054\n",
            "[297s ~ 299s] drop 확률: 0.0058\n",
            "[299s ~ 301s] drop 확률: 0.0053\n"
          ]
        }
      ],
      "source": [
        "# ===== 클립 추출 및 예측 =====\n",
        "for i in range(0, total_frames - clip_len, clip_len):\n",
        "    cap.set(cv2.CAP_PROP_POS_FRAMES, i)\n",
        "    frames = []\n",
        "    for _ in range(clip_len):\n",
        "        ret, frame = cap.read()\n",
        "        if not ret:\n",
        "            break\n",
        "        frames.append(frame)\n",
        "\n",
        "    if len(frames) == clip_len:\n",
        "        input_tensor = preprocess_clip(frames)\n",
        "        with torch.no_grad():\n",
        "            out = model(input_tensor)\n",
        "            prob = torch.sigmoid(out).item()\n",
        "\n",
        "        start_sec = int(i // fps)\n",
        "        end_sec = int((i + clip_len) // fps)\n",
        "\n",
        "        print(f\"[{start_sec}s ~ {end_sec}s] drop 확률: {prob:.4f}\")\n",
        "\n",
        "        if prob > 0.5:\n",
        "            drop_ranges.append((start_sec, end_sec))\n",
        "\n",
        "cap.release()"
      ]
    },
    {
      "cell_type": "code",
      "source": [
        "# ===== 결과 출력 =====\n",
        "print(\"\\nDrop 행동 감지 시간 범위 (초 단위):\")\n",
        "if drop_ranges:\n",
        "    for s, e in drop_ranges:\n",
        "        print(f\"{s}s ~ {e}s\")\n",
        "else:\n",
        "    print(\"감지된 drop 행동이 없습니다.\")"
      ],
      "metadata": {
        "colab": {
          "base_uri": "https://localhost:8080/"
        },
        "id": "0QtlXyl-U-BR",
        "outputId": "b24039b2-1a6d-4440-b064-bf9e869d4ec0"
      },
      "execution_count": null,
      "outputs": [
        {
          "output_type": "stream",
          "name": "stdout",
          "text": [
            "\n",
            "Drop 행동 감지 시간 범위 (초 단위):\n",
            "269s ~ 271s\n"
          ]
        }
      ]
    }
  ]
}
